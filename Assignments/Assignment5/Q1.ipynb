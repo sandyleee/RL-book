{
 "cells": [
  {
   "cell_type": "markdown",
   "id": "hourly-advocate",
   "metadata": {},
   "source": [
    "Here, I replicated BSplineApprox class from RL book github and tested on sampled data"
   ]
  },
  {
   "cell_type": "code",
   "execution_count": 2,
   "id": "british-diesel",
   "metadata": {},
   "outputs": [],
   "source": [
    "from __future__ import annotations\n",
    "from dataclasses import dataclass, replace, field\n",
    "from operator import itemgetter\n",
    "from scipy.interpolate import splrep, BSpline\n",
    "from typing import Callable, Iterable, Sequence, Tuple, TypeVar, Optional\n",
    "from rl.function_approx import FunctionApprox\n",
    "import matplotlib.pyplot as plt\n",
    "import numpy as np\n"
   ]
  },
  {
   "cell_type": "code",
   "execution_count": 12,
   "id": "reliable-depth",
   "metadata": {},
   "outputs": [],
   "source": [
    "X = TypeVar('X')\n",
    "\n",
    "@dataclass(frozen=True)\n",
    "class BSplineApprox(FunctionApprox[X]):\n",
    "    feature_function: Callable[[X], float]\n",
    "    degree: int\n",
    "    knots: np.ndarray = field(default_factory=lambda: np.array([]))\n",
    "    coeffs: np.ndarray = field(default_factory=lambda: np.array([]))\n",
    "\n",
    "    def get_feature_values(self, x_values_seq: Iterable[X]) -> Sequence[float]:\n",
    "        return [self.feature_function(x) for x in x_values_seq]\n",
    "\n",
    "    def representational_gradient(self, x_value: X) -> BSplineApprox[X]:\n",
    "        feature_val: float = self.feature_function(x_value)\n",
    "        eps: float = 1e-6\n",
    "        one_hots: np.array = np.eye(len(self.coeffs))\n",
    "        return replace(\n",
    "            self,\n",
    "            coeffs=np.array([(\n",
    "                BSpline(\n",
    "                    self.knots,\n",
    "                    c + one_hots[i] * eps,\n",
    "                    self.degree\n",
    "                )(feature_val) -\n",
    "                BSpline(\n",
    "                    self.knots,\n",
    "                    c - one_hots[i] * eps,\n",
    "                    self.degree\n",
    "                )(feature_val)\n",
    "            ) / (2 * eps) for i, c in enumerate(self.coeffs)]))\n",
    "\n",
    "    def evaluate(self, x_values_seq: Iterable[X]) -> np.ndarray:\n",
    "        spline_func: Callable[[Sequence[float]], np.ndarray] = \\\n",
    "            BSpline(self.knots, self.coeffs, self.degree)\n",
    "        return spline_func(self.get_feature_values(x_values_seq))\n",
    "\n",
    "    def update(\n",
    "        self,\n",
    "        xy_vals_seq: Iterable[Tuple[X, float]]\n",
    "    ) -> BSplineApprox[X]:\n",
    "        x_vals, y_vals = zip(*xy_vals_seq)\n",
    "        feature_vals: Sequence[float] = self.get_feature_values(x_vals)\n",
    "        sorted_pairs: Sequence[Tuple[float, float]] = \\\n",
    "            sorted(zip(feature_vals, y_vals), key=itemgetter(0))\n",
    "        new_knots, new_coeffs, _ = splrep(\n",
    "            [f for f, _ in sorted_pairs],\n",
    "            [y for _, y in sorted_pairs],\n",
    "            k=self.degree\n",
    "        )\n",
    "        return replace(\n",
    "            self,\n",
    "            knots=new_knots,\n",
    "            coeffs=new_coeffs\n",
    "        )\n",
    "\n",
    "    def solve(\n",
    "        self,\n",
    "        xy_vals_seq: Iterable[Tuple[X, float]],\n",
    "        error_tolerance: Optional[float] = None\n",
    "    ) -> BSplineApprox[X]:\n",
    "        return self.update(xy_vals_seq)\n",
    "\n",
    "    def within(self, other: FunctionApprox[X], tolerance: float) -> bool:\n",
    "        if isinstance(other, BSplineApprox):\n",
    "            return \\\n",
    "                np.all(np.abs(self.knots - other.knots) <= tolerance).item() \\\n",
    "                and \\\n",
    "                np.all(np.abs(self.coeffs - other.coeffs) <= tolerance).item()\n",
    "\n",
    "        return False\n"
   ]
  },
  {
   "cell_type": "code",
   "execution_count": null,
   "id": "surprised-westminster",
   "metadata": {},
   "outputs": [],
   "source": [
    "\n",
    "plt.scatter(x, y, label=\"Empirical\")\n",
    "plt.scatter(xs, spline.evaluate(xs), label=\"Fitted\")\n",
    "plt.legend()\n",
    "plt.show()"
   ]
  },
  {
   "cell_type": "code",
   "execution_count": null,
   "id": "hazardous-binary",
   "metadata": {},
   "outputs": [],
   "source": []
  },
  {
   "cell_type": "code",
   "execution_count": null,
   "id": "matched-cherry",
   "metadata": {},
   "outputs": [],
   "source": [
    ":\n",
    "# Empirical data has a quadratic curvature with some added noise\n",
    "x = np.linspace(-3, 3, 10)\n",
    "y = np.square(x) + np.random.randn(10)\n",
    "\n",
    "spline = UnivariateSplineApprox()\n",
    "spline.update(zip(x, y))\n",
    "\n",
    "xs = np.linspace(-3, 3, 50)"
   ]
  },
  {
   "cell_type": "code",
   "execution_count": 22,
   "id": "powered-provincial",
   "metadata": {
    "scrolled": true
   },
   "outputs": [
    {
     "data": {
      "image/png": "[encoded data removed]",
      "text/plain": [
       "<Figure size 432x288 with 1 Axes>"
      ]
     },
     "metadata": {
      "needs_background": "light"
     },
     "output_type": "display_data"
    }
   ],
   "source": [
    "x = np.linspace(-5, 5, 20)\n",
    "y = np.power(x, 3) + np.random.randn(20)\n",
    "xy = tuple(zip(x, y))\n",
    " \n",
    "bspline = BSplineApprox(lambda x: x, 4)\n",
    "approx = bspline.solve(xy)\n",
    "\n",
    "x_predict = np.linspace(-5, 5, 20)\n",
    "plt.scatter(x, y, c='b', s=12, label='Data')\n",
    "plt.plot(x_predict, approx.evaluate(x_predict), c='r', label='B-Spline Fit')\n",
    "plt.legend()\n",
    "plt.show()"
   ]
  },
  {
   "cell_type": "code",
   "execution_count": null,
   "id": "controlling-unemployment",
   "metadata": {},
   "outputs": [],
   "source": []
  },
  {
   "cell_type": "code",
   "execution_count": null,
   "id": "pressed-footage",
   "metadata": {},
   "outputs": [],
   "source": []
  },
  {
   "cell_type": "code",
   "execution_count": null,
   "id": "stainless-examination",
   "metadata": {},
   "outputs": [],
   "source": [
    "d"
   ]
  }
 ],
 "metadata": {
  "kernelspec": {
   "display_name": "Python 3",
   "language": "python",
   "name": "python3"
  },
  "language_info": {
   "codemirror_mode": {
    "name": "ipython",
    "version": 3
   },
   "file_extension": ".py",
   "mimetype": "text/x-python",
   "name": "python",
   "nbconvert_exporter": "python",
   "pygments_lexer": "ipython3",
   "version": "3.8.5"
  }
 },
 "nbformat": 4,
 "nbformat_minor": 5
}

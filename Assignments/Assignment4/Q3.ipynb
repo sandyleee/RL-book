{
 "cells": [
  {
   "cell_type": "markdown",
   "id": "intermediate-astronomy",
   "metadata": {},
   "source": [
    "# Assignment 4 - Problem 3"
   ]
  },
  {
   "cell_type": "markdown",
   "id": "hazardous-karma",
   "metadata": {},
   "source": [
    "## Job-Hopping and Wages-Utility Maximization"
   ]
  },
  {
   "cell_type": "markdown",
   "id": "headed-acquisition",
   "metadata": {},
   "source": [
    "On a given day, you could be working on any one of $n$ jobs or unemployed. Therefore, the **state space** is $S = \\{0, 1, ..., n\\}$ where state 0 is for unemployed and the rest is for each of the $n$ jobs. The **action space** is $\\mathcal{A} = \\{A, D\\}$, since you can either accept or decline an offered job. \n",
    "\n",
    "We have the following **transition probabilities** $\\mathcal{P}(s,a,s')$:\n",
    "\n",
    "$$\\mathcal{P}(0, A, 0) = 0, \\mathcal{P}(0, A, s') = p_{s'} \\text{ for all } s' \\in S \\\\ \\text{ since if you are unemployed and accept job s', job-offer probability is} p_{s'}$$\n",
    "\n",
    "$$\\mathcal{P}(0, R, 0) = 1, \\mathcal{P}(0, R, s') = 0 \\text{ for all } s' \\in S \\\\ \\text{ since if you are unemployed and reject a job, you are again unemployed}$$ \n",
    "\n",
    "$$\\mathcal{P}(s, R, s') = 0, \\mathcal{P}(s, R, s) = 1 \\text{ for all } s' \\in S, \\mathcal{P}(s, A, 0) = \\alpha, \\mathcal{P}(s, A, s) = (1-\\alpha) \\\\ \\text{ since if you are employed you don't have the option to reject, and you lose your job with prob } \\alpha \\text{ and stay at your current job with prob } 1-\\alpha$$\n",
    "\n",
    "\n",
    "We have the following **reward functions** $\\mathcal{R}(s,a)$:\n",
    "\n",
    "$$\\mathcal{R}(0, A) = log(w_{1}*p_{1} + ... w_{n}*p_{n})$$\n",
    "$$\\mathcal{R}(0, R) = log(w_{0})$$\n",
    "$$\\mathcal{R}(s, A) = log(w_{s})$$\n",
    "$$\\mathcal{R}(s, R) = log(w_{s})$$\n",
    "\n",
    "Finally, we can use the **Bellman Optimality equation**:\n",
    "\\begin{equation} \n",
    "     V(s) = \\max_{a\\in \\mathcal{A}}\\{\\mathcal{R}(s,a) + \\gamma \\cdot \\sum_{s'\\in \\mathcal{N}} \\mathcal{P}(s,a,s') \\cdot V(s') \\}\n",
    "\\end{equation}"
   ]
  },
  {
   "cell_type": "code",
   "execution_count": 133,
   "id": "exempt-probe",
   "metadata": {},
   "outputs": [],
   "source": [
    "from dataclasses import dataclass, field\n",
    "from typing import List, Callable, Mapping, Tuple, Dict, TypeVar\n",
    "import numpy as np\n",
    "from operator import itemgetter \n"
   ]
  },
  {
   "cell_type": "code",
   "execution_count": 196,
   "id": "cleared-communication",
   "metadata": {},
   "outputs": [],
   "source": [
    "@dataclass\n",
    "class WageMDP():\n",
    "    gamma: float\n",
    "    alpha: float\n",
    "    states: List[int] #jobs\n",
    "\n",
    "    wages: List[float]\n",
    "    probs: List[float]\n",
    "    actions: List[str] = field(default_factory= lambda:['A', 'R'])\n",
    "\n",
    "    def trans_prob(self, state: S, action: str, next_state: S) -> float:    \n",
    "        #unemployed\n",
    "        if (state, action) == (0, 'A'):\n",
    "            if next_state == 0:\n",
    "                return 0\n",
    "            return probs[next_state]\n",
    "        elif (state, action) == (0, 'R'):\n",
    "            if next_state == 0:\n",
    "                return 1\n",
    "            return 0\n",
    "        #employed\n",
    "        else:\n",
    "            if action == 'A':\n",
    "                if next_state == state:\n",
    "                    return 1-alpha\n",
    "                elif next_state == 0:\n",
    "                    return alpha\n",
    "                else:    \n",
    "                    return 0\n",
    "            if action == \"R\":\n",
    "                if next_state == state:\n",
    "                    return 1\n",
    "        return 0\n",
    "    \n",
    "\n",
    "    def reward(self, state: int, action: str) -> float:\n",
    "        if (state, action) == (0, 'A'):\n",
    "            exp_wage = sum([self.wages[state]*self.probs[state] for state in self.states])\n",
    "            return np.log(exp_wage)\n",
    "        return np.log(wages[state])\n",
    "\n",
    "    def value_iteration(self) -> List[float]:\n",
    "        vf = [0 for state in states]\n",
    "        pi = ['' for state in states]\n",
    "        tol = 1e-6\n",
    "\n",
    "        while True:\n",
    "            next_vf = vf.copy()\n",
    "            for s in self.states:\n",
    "                next_vf_pi = max([(self.reward(s, a) + sum(self.gamma*self.trans_prob(s, a, next_s) * vf[next_s] \n",
    "                                                           for next_s in self.states), a)\n",
    "                                  for a in self.actions], key = itemgetter(0))\n",
    "                next_vf[s] = next_vf_pi[0]\n",
    "                pi[s] = next_vf_pi[1]\n",
    "            if np.linalg.norm(np.array(next_vf) - np.array(vf)) < tol:\n",
    "                return vf, pi\n",
    "            vf = next_vf\n",
    "    "
   ]
  },
  {
   "cell_type": "code",
   "execution_count": 201,
   "id": "selected-creek",
   "metadata": {},
   "outputs": [],
   "source": [
    "gamma: float = 0.1\n",
    "alpha: float = 0.1\n",
    "states: List[int] = [0, 1, 2, 3, 4, 5]\n",
    "wages: List[float] = [2, 2, 100, 100, 1, 3]\n",
    "probs: List[float] = [0, 0.1, 0.2, 0.4, 0.1, 0.2]\n",
    "    \n",
    "mdp = WageMDP(\n",
    "    gamma=gamma,\n",
    "    alpha=alpha,\n",
    "    states = states,\n",
    "    wages = wages,\n",
    "    probs = probs\n",
    ")"
   ]
  },
  {
   "cell_type": "code",
   "execution_count": 202,
   "id": "temporal-publisher",
   "metadata": {},
   "outputs": [
    {
     "data": {
      "text/plain": [
       "([4.449962479933997,\n",
       "  0.8106006537576071,\n",
       "  5.116855250523415,\n",
       "  5.116855250523415,\n",
       "  0.04890049177196922,\n",
       "  1.2561666853124358],\n",
       " ['A', 'A', 'R', 'R', 'A', 'A'])"
      ]
     },
     "execution_count": 202,
     "metadata": {},
     "output_type": "execute_result"
    }
   ],
   "source": [
    "mdp.value_iteration()"
   ]
  },
  {
   "cell_type": "code",
   "execution_count": 209,
   "id": "gorgeous-garden",
   "metadata": {},
   "outputs": [],
   "source": [
    "#policies don't really make sense... need to change the state space to separate out unemployment status..?"
   ]
  },
  {
   "cell_type": "code",
   "execution_count": null,
   "id": "private-truck",
   "metadata": {},
   "outputs": [],
   "source": []
  }
 ],
 "metadata": {
  "kernelspec": {
   "display_name": "Python 3",
   "language": "python",
   "name": "python3"
  },
  "language_info": {
   "codemirror_mode": {
    "name": "ipython",
    "version": 3
   },
   "file_extension": ".py",
   "mimetype": "text/x-python",
   "name": "python",
   "nbconvert_exporter": "python",
   "pygments_lexer": "ipython3",
   "version": "3.8.5"
  }
 },
 "nbformat": 4,
 "nbformat_minor": 5
}

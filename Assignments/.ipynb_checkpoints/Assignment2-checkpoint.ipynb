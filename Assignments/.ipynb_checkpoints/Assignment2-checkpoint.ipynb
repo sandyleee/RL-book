{
 "cells": [
  {
   "cell_type": "markdown",
   "metadata": {},
   "source": [
    "## CME241: Markov Processes and Markov Reward Processes"
   ]
  },
  {
   "cell_type": "markdown",
   "metadata": {},
   "source": [
    "### Question 1\n"
   ]
  },
  {
   "cell_type": "markdown",
   "metadata": {},
   "source": [
    "If we model the game of *Snakes and Ladders* as an MP, we have the state space S = {0,1,...,99,100} where 0 is the starting state and 100 is the terminal state. If we ignore snakes and ladders, the transition probability from state $s$ to to $s+1,s+2...,s+6$ is $\\frac{1}{6}$. We can use mapping $M: S \\rightarrow S $ in our model to account for snakes and ladders. For example, if $s+1$ is mapped to $s+10$ in the ladder mapping, the transition probability from $s$ to $s+1$ will be replaced with zero and from $s$ to $s+10$ will be $\\frac{1}{6}$. Another edge case when the next state is > 100, the player remains where he is."
   ]
  },
  {
   "cell_type": "markdown",
   "metadata": {},
   "source": [
    "### Question 2\n"
   ]
  },
  {
   "cell_type": "code",
   "execution_count": 1,
   "metadata": {},
   "outputs": [],
   "source": [
    "from dataclasses import dataclass\n",
    "from typing import Mapping, Dict\n",
    "from rl.distribution import Choose, Constant\n",
    "from rl.markov_process import Transition, FiniteMarkovProcess\n",
    "import matplotlib.pyplot as plt\n",
    "import numpy as np"
   ]
  },
  {
   "cell_type": "code",
   "execution_count": 2,
   "metadata": {},
   "outputs": [],
   "source": [
    "snakes = {\n",
    "    16: 6,\n",
    "    47: 26,\n",
    "    49: 11,\n",
    "    56: 53,\n",
    "    62: 19,\n",
    "    64: 60,\n",
    "    87: 24,\n",
    "    93: 73,\n",
    "    95: 75,\n",
    "    98: 78\n",
    "}\n",
    "\n",
    "ladders = {\n",
    "    1: 38, \n",
    "    4: 14, \n",
    "    9: 31,\n",
    "    28: 84,\n",
    "    21: 42,\n",
    "    36: 44,\n",
    "    51: 67,\n",
    "    71: 91,\n",
    "    80: 100\n",
    "}"
   ]
  },
  {
   "cell_type": "code",
   "execution_count": 3,
   "metadata": {},
   "outputs": [],
   "source": [
    "#Create a transition map\n",
    "sl_transition_map: Transition[int]= {}\n",
    "states = [s for s in range(100) if s not in snakes and s not in ladders] #non-terminal states\n",
    "for state in states:\n",
    "    destinations = []\n",
    "    for roll_value in range(1,7):\n",
    "        next_state = state + roll_value\n",
    "        #replace next states if snake or ladder\n",
    "        if next_state in snakes:\n",
    "            next_state = snakes[next_state]\n",
    "        if next_state in ladders:\n",
    "            next_state = ladders[next_state]\n",
    "        #piece does not move if next state is above 100\n",
    "        if next_state > 100:\n",
    "            next_state = state\n",
    "        destinations.append(next_state)\n",
    "    #select an element of the given list uniformly at random\n",
    "    sl_transition_map[state] = Choose(destinations)\n",
    "sl_transition_map[100] = None #winning condition (terminal state)"
   ]
  },
  {
   "cell_type": "code",
   "execution_count": 4,
   "metadata": {
    "scrolled": true
   },
   "outputs": [],
   "source": [
    "#model the game as an instance of FiniteMarkovProcess\n",
    "game = FiniteMarkovProcess(sl_transition_map)"
   ]
  },
  {
   "cell_type": "code",
   "execution_count": 5,
   "metadata": {},
   "outputs": [],
   "source": [
    "#use the method traces to create sampling traces\n",
    "time_steps = []\n",
    "num_simulations = 0\n",
    "for trace in game.traces(Constant(0)):\n",
    "    time_steps.append(len(list(trace)))\n",
    "    num_simulations += 1\n",
    "    if num_simulations > 10000:\n",
    "        break"
   ]
  },
  {
   "cell_type": "code",
   "execution_count": 6,
   "metadata": {},
   "outputs": [
    {
     "data": {
      "image/png": "[encoded data removed]",
      "text/plain": [
       "<Figure size 432x288 with 1 Axes>"
      ]
     },
     "metadata": {
      "needs_background": "light"
     },
     "output_type": "display_data"
    }
   ],
   "source": [
    "#Plot a graph of the probability distribution of time steps to finish the game.\n",
    "plt.hist(x=time_steps, bins='auto');"
   ]
  },
  {
   "cell_type": "code",
   "execution_count": 7,
   "metadata": {},
   "outputs": [
    {
     "name": "stdout",
     "output_type": "stream",
     "text": [
      "The expected number of steps to finish the game is 40.08109189081092.\n"
     ]
    }
   ],
   "source": [
    "print(\"The expected number of steps to finish the game is {}.\".format(np.mean(time_steps)))"
   ]
  },
  {
   "cell_type": "markdown",
   "metadata": {},
   "source": [
    "### Question 3\n"
   ]
  },
  {
   "cell_type": "markdown",
   "metadata": {},
   "source": [
    "Here, we make slight changes to Q2 solutions to solve the frog puzzle. Given a frog and a distance n, we have the state space S = {0,1,...,n} where 0 is the starting state and n is the terminal state. At state $s$, it can jump to $s+1, ..., n$ with equal probability. \n",
    "\n"
   ]
  },
  {
   "cell_type": "code",
   "execution_count": 8,
   "metadata": {},
   "outputs": [],
   "source": [
    "#Create a transition map\n",
    "def get_frog_transition_map(n: int):\n",
    "    frog_transition_map: Transition[int]= {}\n",
    "    states = [s for s in range(n)] #non-terminal states\n",
    "    for state in states:\n",
    "        destinations = []\n",
    "        for num_steps in range(1,n-state+1):\n",
    "            next_state = state + num_steps\n",
    "            destinations.append(next_state)\n",
    "        frog_transition_map[state] = Choose(destinations)\n",
    "    frog_transition_map[n] = None #terminating condition when frog reaches the end\n",
    "    return frog_transition_map"
   ]
  },
  {
   "cell_type": "code",
   "execution_count": 9,
   "metadata": {},
   "outputs": [],
   "source": [
    "#model the game as an instance of FiniteMarkovProcess\n",
    "dist = 10\n",
    "frog_game = FiniteMarkovProcess(get_frog_transition_map(dist))"
   ]
  },
  {
   "cell_type": "code",
   "execution_count": 10,
   "metadata": {},
   "outputs": [
    {
     "name": "stdout",
     "output_type": "stream",
     "text": [
      "For distance of 10, the expected number of jumps is 2.9212078792120786.\n"
     ]
    }
   ],
   "source": [
    "#use the method traces to create sampling traces\n",
    "num_jumps = []\n",
    "num_simulations = 0\n",
    "for trace in frog_game.traces(Constant(0)):\n",
    "    #the number of steps in each simulation will be the number of states visited - 1 (not counting start state)\n",
    "    num_jumps.append(len(list(trace))-1)\n",
    "    num_simulations += 1\n",
    "    if num_simulations > 10000:\n",
    "        break\n",
    "exp_num_jumps = np.mean(num_jumps)\n",
    "print(\"For distance of {}, the expected number of jumps is {}.\".format(dist, exp_num_jumps))"
   ]
  },
  {
   "cell_type": "markdown",
   "metadata": {},
   "source": [
    "### Question 4\n"
   ]
  },
  {
   "cell_type": "markdown",
   "metadata": {},
   "source": [
    "We can model Q2 as an MRP by adding a reward of 1 for every transition, and using discount rate $\\gamma = 1$. Then, we can use the value function of state $s$ will give the expected number of dice rolls to finish the game from that state. We can apply the value function to the starting state $s = 0$."
   ]
  },
  {
   "cell_type": "code",
   "execution_count": 12,
   "metadata": {},
   "outputs": [],
   "source": [
    "from rl.markov_process import FiniteMarkovRewardProcess"
   ]
  },
  {
   "cell_type": "code",
   "execution_count": 13,
   "metadata": {},
   "outputs": [],
   "source": [
    "sl_reward_transition_map = {}\n",
    "for state, next_dist in sl_transition_map.items():\n",
    "    if next_dist:\n",
    "        destinations = [(next_state, 1) for next_state in next_dist.options]\n",
    "        sl_reward_transition_map[state] = Choose(destinations)\n",
    "    else:\n",
    "        sl_reward_transition_map[state] = None"
   ]
  },
  {
   "cell_type": "code",
   "execution_count": 14,
   "metadata": {},
   "outputs": [],
   "source": [
    "sl_mrp = FiniteMarkovRewardProcess(sl_reward_transition_map)"
   ]
  },
  {
   "cell_type": "code",
   "execution_count": 15,
   "metadata": {},
   "outputs": [
    {
     "name": "stdout",
     "output_type": "stream",
     "text": [
      "The expected number of steps to finish the game is 36.96052442581669.\n"
     ]
    }
   ],
   "source": [
    "exp_num_steps = sl_mrp.get_value_function_vec(1)[0]\n",
    "print(\"The expected number of steps to finish the game is {}.\".format(exp_num_steps))"
   ]
  },
  {
   "cell_type": "code",
   "execution_count": null,
   "metadata": {},
   "outputs": [],
   "source": []
  }
 ],
 "metadata": {
  "kernelspec": {
   "display_name": "Python 3",
   "language": "python",
   "name": "python3"
  },
  "language_info": {
   "codemirror_mode": {
    "name": "ipython",
    "version": 3
   },
   "file_extension": ".py",
   "mimetype": "text/x-python",
   "name": "python",
   "nbconvert_exporter": "python",
   "pygments_lexer": "ipython3",
   "version": "3.8.5"
  }
 },
 "nbformat": 4,
 "nbformat_minor": 4
}
